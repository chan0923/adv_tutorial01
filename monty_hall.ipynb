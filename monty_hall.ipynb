{
 "cells": [
  {
   "cell_type": "markdown",
   "metadata": {},
   "source": [
    "# Monty Hall Problem Simulator\n",
    "\n"
   ]
  },
  {
   "cell_type": "markdown",
   "metadata": {},
   "source": [
    "### __[What is Monty Hall Problem](http://www.montyhallproblem.com/)__\n",
    "<img src=\"https://i.ytimg.com/vi/8mSGNRfHSWQ/maxresdefault.jpg\" style=\"width:450px;height:3\n",
    "00px; float:left\"/>"
   ]
  },
  {
   "cell_type": "code",
   "execution_count": 25,
   "metadata": {
    "collapsed": false
   },
   "outputs": [
    {
     "name": "stdout",
     "output_type": "stream",
     "text": [
      "Final result: 30 wins, 20 lose\n"
     ]
    }
   ],
   "source": [
    "total_rounds = 50\n",
    "guess_switch = True\n",
    "round_wins = 0\n",
    "round_lose = 0\n",
    "show_details = False\n",
    "\n",
    "import random\n",
    "doors = [1, 2, 3]\n",
    "for x in xrange(0, total_rounds):\n",
    "    correct_door = random.randint(1, 3)\n",
    "    player_guess = random.randint(1, 3)\n",
    "    host_open = random.sample([door for door in doors if door not in [correct_door, player_guess]], 1)[0]\n",
    "    if guess_switch:\n",
    "        new_guess = [door for door in doors if door not in [player_guess, host_open]][0]\n",
    "    else:\n",
    "        new_guess = player_guess\n",
    "    guess_win = new_guess is correct_door\n",
    "    if guess_win:\n",
    "        round_wins += 1\n",
    "    else:\n",
    "        round_lose += 1\n",
    "    if show_details:\n",
    "        print \"Correct door: {}. Player guess: {}. Host opens: {}. Player new guess: {}. Result: {}\".format(\n",
    "            correct_door, player_guess, host_open, new_guess, guess_win\n",
    "        )\n",
    "\n",
    "print \"Final result: {} wins, {} lose\".format(round_wins, round_lose)"
   ]
  },
  {
   "cell_type": "code",
   "execution_count": null,
   "metadata": {
    "collapsed": true
   },
   "outputs": [],
   "source": []
  }
 ],
 "metadata": {
  "kernelspec": {
   "display_name": "Python 2",
   "language": "python",
   "name": "python2"
  },
  "language_info": {
   "codemirror_mode": {
    "name": "ipython",
    "version": 2
   },
   "file_extension": ".py",
   "mimetype": "text/x-python",
   "name": "python",
   "nbconvert_exporter": "python",
   "pygments_lexer": "ipython2",
   "version": "2.7.11"
  }
 },
 "nbformat": 4,
 "nbformat_minor": 0
}
